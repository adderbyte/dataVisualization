{
 "cells": [
  {
   "cell_type": "code",
   "execution_count": 50,
   "metadata": {
    "collapsed": true
   },
   "outputs": [],
   "source": [
    "%matplotlib inline\n",
    "import pandas as pd\n",
    "import requests\n",
    "from bs4 import BeautifulSoup\n",
    "import sys\n",
    "import numpy as np\n",
    "import matplotlib.pyplot as plt\n",
    "import pickle\n"
   ]
  },
  {
   "cell_type": "markdown",
   "metadata": {},
   "source": [
    "<p><b> Task:</b></p>\n",
    "    * Augment the patent data from previous cleaning with additional scrapped data\n",
    "      from patents view site"
   ]
  },
  {
   "cell_type": "code",
   "execution_count": null,
   "metadata": {
    "collapsed": true
   },
   "outputs": [],
   "source": [
    "# import saved data sets cleaned previously \n",
    "# This is from the first cleaning  we did\n",
    "merged_data_left  = pd.read_pickle('dataset.pkl')  #to read pickle\n",
    "Group_by_country_year  = pd.read_pickle('Group_by_country_year_copy.pkl')  #to read pickle\n",
    "merged_data_left_multi_index  = pd.read_pickle('merged_data_multi_Index.pkl')  #to read pickle"
   ]
  },
  {
   "cell_type": "markdown",
   "metadata": {},
   "source": []
  },
  {
   "cell_type": "code",
   "execution_count": 14,
   "metadata": {
    "collapsed": true
   },
   "outputs": [],
   "source": [
    "# This is the second query \n",
    "# use the url to query for a single year\n",
    "# Note the specification of the query data\n",
    "urlHome2 = 'http://www.patentsview.org/api/patents/query? \\\n",
    "            q={\"_and\":[{\"_gte\":{\"patent_date\":\"2000-01-01\"}},{\"_lte\":{\"patent_date\":\"2000-12-31\"}}]}'"
   ]
  },
  {
   "cell_type": "markdown",
   "metadata": {
    "collapsed": true
   },
   "source": [
    "Scrapping data from patents view"
   ]
  },
  {
   "cell_type": "code",
   "execution_count": 47,
   "metadata": {},
   "outputs": [],
   "source": [
    "data_request = requests.get(urlHome2) # data from url\n",
    "dataScraped = data_request.json() # safe data as topojson"
   ]
  },
  {
   "cell_type": "code",
   "execution_count": 49,
   "metadata": {},
   "outputs": [
    {
     "data": {
      "text/plain": [
       "{u'count': 25,\n",
       " u'patents': [{u'patent_id': u'6009555',\n",
       "   u'patent_number': u'6009555',\n",
       "   u'patent_title': u'Multiple component headgear system'},\n",
       "  {u'patent_id': u'6009556',\n",
       "   u'patent_number': u'6009556',\n",
       "   u'patent_title': u'Bathing suit of changeable appearance for females'},\n",
       "  {u'patent_id': u'6009557',\n",
       "   u'patent_number': u'6009557',\n",
       "   u'patent_title': u'Video game control glove'},\n",
       "  {u'patent_id': u'6009558',\n",
       "   u'patent_number': u'6009558',\n",
       "   u'patent_title': u'Active wear garments'},\n",
       "  {u'patent_id': u'6009559',\n",
       "   u'patent_number': u'6009559',\n",
       "   u'patent_title': u'Odor absorbing clothing'},\n",
       "  {u'patent_id': u'6009560',\n",
       "   u'patent_number': u'6009560',\n",
       "   u'patent_title': u'Perforated reflective trim for use with garments'},\n",
       "  {u'patent_id': u'6009561',\n",
       "   u'patent_number': u'6009561',\n",
       "   u'patent_title': u'Helmet with rotatable accessory mount and method of making the same'},\n",
       "  {u'patent_id': u'6009562',\n",
       "   u'patent_number': u'6009562',\n",
       "   u'patent_title': u'Helmet with accessory mounting apparatus and method of making the same'},\n",
       "  {u'patent_id': u'6009563',\n",
       "   u'patent_number': u'6009563',\n",
       "   u'patent_title': u'Sports safety helmet'},\n",
       "  {u'patent_id': u'6009564',\n",
       "   u'patent_number': u'6009564',\n",
       "   u'patent_title': u'Optically corrected goggle'},\n",
       "  {u'patent_id': u'6009565',\n",
       "   u'patent_number': u'6009565',\n",
       "   u'patent_title': u'Protective garment for the hip area'},\n",
       "  {u'patent_id': u'6009566',\n",
       "   u'patent_number': u'6009566',\n",
       "   u'patent_title': u'Head and neck support for racing'},\n",
       "  {u'patent_id': u'6009567',\n",
       "   u'patent_number': u'6009567',\n",
       "   u'patent_title': u'Inline sanitary conditioning system'},\n",
       "  {u'patent_id': u'6009568',\n",
       "   u'patent_number': u'6009568',\n",
       "   u'patent_title': u'Opening-closing device of western style toilet seat and seat cover'},\n",
       "  {u'patent_id': u'6009569',\n",
       "   u'patent_number': u'6009569',\n",
       "   u'patent_title': u'Toilet seat handle'},\n",
       "  {u'patent_id': u'6009570',\n",
       "   u'patent_number': u'6009570',\n",
       "   u'patent_title': u'Convertible bed/chair with waste disposal'},\n",
       "  {u'patent_id': u'6009571',\n",
       "   u'patent_number': u'6009571',\n",
       "   u'patent_title': u'Foldable commode'},\n",
       "  {u'patent_id': u'6009572',\n",
       "   u'patent_number': u'6009572',\n",
       "   u'patent_title': u'Nonelectrical independent lifts'},\n",
       "  {u'patent_id': u'6009573',\n",
       "   u'patent_number': u'6009573',\n",
       "   u'patent_title': u'Safety diffuser for pool suction inlet'},\n",
       "  {u'patent_id': u'6009574',\n",
       "   u'patent_number': u'6009574',\n",
       "   u'patent_title': u'Method and apparatus for providing a pulsed water massage'},\n",
       "  {u'patent_id': u'6009575',\n",
       "   u'patent_number': u'6009575',\n",
       "   u'patent_title': u'Foldable bed assembly'},\n",
       "  {u'patent_id': u'6009576',\n",
       "   u'patent_number': u'6009576',\n",
       "   u'patent_title': u'Body-conforming wrapping article for infants'},\n",
       "  {u'patent_id': u'6009577',\n",
       "   u'patent_number': u'6009577',\n",
       "   u'patent_title': u'Transformable travel pillow'},\n",
       "  {u'patent_id': u'6009578',\n",
       "   u'patent_number': u'6009578',\n",
       "   u'patent_title': u'Seat cushion'},\n",
       "  {u'patent_id': u'6009579',\n",
       "   u'patent_number': u'6009579',\n",
       "   u'patent_title': u'Filled topper and featherbed combination'}],\n",
       " u'total_patent_count': 100000}"
      ]
     },
     "execution_count": 49,
     "metadata": {},
     "output_type": "execute_result"
    }
   ],
   "source": [
    "dataScraped # view data set"
   ]
  },
  {
   "cell_type": "markdown",
   "metadata": {},
   "source": [
    "The scrapped data above contain the patent title which is not  in the url.\n",
    "    * We check for the particular patent in the merged patent data set \n",
    "    * Then add a title column\n",
    "    * Note that we have duplicated values due to different country returned in sample code below"
   ]
  },
  {
   "cell_type": "code",
   "execution_count": 37,
   "metadata": {},
   "outputs": [
    {
     "data": {
      "text/html": [
       "<div>\n",
       "<table border=\"1\" class=\"dataframe\">\n",
       "  <thead>\n",
       "    <tr style=\"text-align: right;\">\n",
       "      <th></th>\n",
       "      <th>PATENT</th>\n",
       "      <th>LASTNAM</th>\n",
       "      <th>FIRSTNAM</th>\n",
       "      <th>MIDNAM</th>\n",
       "      <th>MODIFNAM</th>\n",
       "      <th>GYEAR</th>\n",
       "      <th>GDATE</th>\n",
       "      <th>APPYEAR</th>\n",
       "      <th>COUNTRY</th>\n",
       "      <th>POSTATE</th>\n",
       "      <th>...</th>\n",
       "      <th>CRECEIVE</th>\n",
       "      <th>RATIOCIT</th>\n",
       "      <th>GENERAL</th>\n",
       "      <th>ORIGINAL</th>\n",
       "      <th>FWDAPLAG</th>\n",
       "      <th>BCKGTLAG</th>\n",
       "      <th>SELFCTUB</th>\n",
       "      <th>SELFCTLB</th>\n",
       "      <th>SECDUPBD</th>\n",
       "      <th>SECDLWBD</th>\n",
       "    </tr>\n",
       "  </thead>\n",
       "  <tbody>\n",
       "    <tr>\n",
       "      <th>4301223</th>\n",
       "      <td>6009552</td>\n",
       "      <td>Ariel</td>\n",
       "      <td>Meir</td>\n",
       "      <td>NaN</td>\n",
       "      <td>NaN</td>\n",
       "      <td>1999</td>\n",
       "      <td>14606</td>\n",
       "      <td>1997.0</td>\n",
       "      <td>IL</td>\n",
       "      <td>NaN</td>\n",
       "      <td>...</td>\n",
       "      <td>0</td>\n",
       "      <td>1.0</td>\n",
       "      <td>NaN</td>\n",
       "      <td>0.48</td>\n",
       "      <td>NaN</td>\n",
       "      <td>12.6</td>\n",
       "      <td>0.2</td>\n",
       "      <td>0.2</td>\n",
       "      <td>NaN</td>\n",
       "      <td>NaN</td>\n",
       "    </tr>\n",
       "    <tr>\n",
       "      <th>4301224</th>\n",
       "      <td>6009552</td>\n",
       "      <td>Meidan</td>\n",
       "      <td>Reuven</td>\n",
       "      <td>NaN</td>\n",
       "      <td>NaN</td>\n",
       "      <td>1999</td>\n",
       "      <td>14606</td>\n",
       "      <td>1997.0</td>\n",
       "      <td>IL</td>\n",
       "      <td>NaN</td>\n",
       "      <td>...</td>\n",
       "      <td>0</td>\n",
       "      <td>1.0</td>\n",
       "      <td>NaN</td>\n",
       "      <td>0.48</td>\n",
       "      <td>NaN</td>\n",
       "      <td>12.6</td>\n",
       "      <td>0.2</td>\n",
       "      <td>0.2</td>\n",
       "      <td>NaN</td>\n",
       "      <td>NaN</td>\n",
       "    </tr>\n",
       "  </tbody>\n",
       "</table>\n",
       "<p>2 rows × 27 columns</p>\n",
       "</div>"
      ],
      "text/plain": [
       "          PATENT LASTNAM FIRSTNAM MIDNAM MODIFNAM  GYEAR  GDATE  APPYEAR  \\\n",
       "4301223  6009552   Ariel     Meir    NaN      NaN   1999  14606   1997.0   \n",
       "4301224  6009552  Meidan   Reuven    NaN      NaN   1999  14606   1997.0   \n",
       "\n",
       "        COUNTRY POSTATE    ...     CRECEIVE  RATIOCIT  GENERAL  ORIGINAL  \\\n",
       "4301223      IL     NaN    ...            0       1.0      NaN      0.48   \n",
       "4301224      IL     NaN    ...            0       1.0      NaN      0.48   \n",
       "\n",
       "         FWDAPLAG  BCKGTLAG  SELFCTUB  SELFCTLB  SECDUPBD  SECDLWBD  \n",
       "4301223       NaN      12.6       0.2       0.2       NaN       NaN  \n",
       "4301224       NaN      12.6       0.2       0.2       NaN       NaN  \n",
       "\n",
       "[2 rows x 27 columns]"
      ]
     },
     "execution_count": 37,
     "metadata": {},
     "output_type": "execute_result"
    }
   ],
   "source": [
    "merged_data_left.loc[merged_data_left['PATENT']==6009552] # we choose patent value 60009552 \n",
    "                                                          # checked if it is the merged data set\n",
    "                                                         # As it can be observed it is in the data set"
   ]
  },
  {
   "cell_type": "code",
   "execution_count": 51,
   "metadata": {
    "collapsed": true
   },
   "outputs": [],
   "source": [
    "# Add patent title to data set"
   ]
  },
  {
   "cell_type": "code",
   "execution_count": null,
   "metadata": {
    "collapsed": true
   },
   "outputs": [],
   "source": []
  }
 ],
 "metadata": {
  "anaconda-cloud": {},
  "kernelspec": {
   "display_name": "Python [conda env:python2]",
   "language": "python",
   "name": "conda-env-python2-py"
  },
  "language_info": {
   "codemirror_mode": {
    "name": "ipython",
    "version": 2
   },
   "file_extension": ".py",
   "mimetype": "text/x-python",
   "name": "python",
   "nbconvert_exporter": "python",
   "pygments_lexer": "ipython2",
   "version": "2.7.12"
  }
 },
 "nbformat": 4,
 "nbformat_minor": 2
}
