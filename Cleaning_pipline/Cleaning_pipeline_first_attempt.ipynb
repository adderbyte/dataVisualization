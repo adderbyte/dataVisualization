{
 "cells": [
  {
   "cell_type": "code",
   "execution_count": 1,
   "metadata": {
    "collapsed": true
   },
   "outputs": [],
   "source": [
    "%matplotlib inline\n",
    "import pandas as pd\n",
    "import requests\n",
    "from bs4 import BeautifulSoup\n",
    "import sys\n",
    "import numpy as np\n",
    "import matplotlib.pyplot as plt\n",
    "\n"
   ]
  },
  {
   "cell_type": "markdown",
   "metadata": {},
   "source": [
    "    *******  Outcome *********************\n",
    "    > To do the get request from URL\n",
    "    > First query tested a single date\n",
    "    > Second query returns a full year\n",
    "    > Final pipeline of cleanong retuns a list whioch is easy to work with\n",
    "    \n",
    "    ******* To Do ***********************\n",
    "    > No location in the returned content. Check the doc on how to inclide location info\n",
    "    > Use a for loop to return values for all year. Only a single year was tested year.\n",
    "    > From the lists make a dictionsy and then a data frame to begin analysis\n",
    "    > Concatenate data frame to begin analysis\n",
    "    \n"
   ]
  },
  {
   "cell_type": "code",
   "execution_count": 2,
   "metadata": {},
   "outputs": [],
   "source": [
    "# this variable holds the url \n",
    "# Note that it queries for a partivcular patent data\n",
    "urlHome = 'http://www.patentsview.org/api/patents/query?q={\"_gte\":{\"patent_date\":\"2007-01-04\"}}' "
   ]
  },
  {
   "cell_type": "code",
   "execution_count": 3,
   "metadata": {
    "collapsed": true
   },
   "outputs": [],
   "source": [
    "# use beautiful soup to do aget request \n",
    "home = requests.get(urlHome)\n",
    "# Store the contents of request in another variable\n",
    "homeSoup = BeautifulSoup(home.content,'lxml')\n"
   ]
  },
  {
   "cell_type": "code",
   "execution_count": 4,
   "metadata": {},
   "outputs": [
    {
     "data": {
      "text/plain": [
       "<html><body><p>{\"patents\":[{\"patent_id\":\"7159246\",\"patent_number\":\"7159246\",\"patent_title\":\"Glove with high tactile portion\"},{\"patent_id\":\"7159247\",\"patent_number\":\"7159247\",\"patent_title\":\"Cap having a flexible headband\"},{\"patent_id\":\"7159248\",\"patent_number\":\"7159248\",\"patent_title\":\"Head covering with attached whistle\"},{\"patent_id\":\"7159249\",\"patent_number\":\"7159249\",\"patent_title\":\"Self-balancing, load-distributing helmet structure\"},{\"patent_id\":\"7159250\",\"patent_number\":\"7159250\",\"patent_title\":\"Swimming goggles\"},{\"patent_id\":\"7159251\",\"patent_number\":\"7159251\",\"patent_title\":\"Water saver flush system\"},{\"patent_id\":\"7159252\",\"patent_number\":\"7159252\",\"patent_title\":\"Folding sink\"},{\"patent_id\":\"7159253\",\"patent_number\":\"7159253\",\"patent_title\":\"Modular headboard and method of assembly\"},{\"patent_id\":\"7159254\",\"patent_number\":\"7159254\",\"patent_title\":\"Motorized hammock swinging assembly\"},{\"patent_id\":\"7159255\",\"patent_number\":\"7159255\",\"patent_title\":\"Support base for a bed mattress\"},{\"patent_id\":\"7159256\",\"patent_number\":\"7159256\",\"patent_title\":\"Multifunctional outdoor blanket anchors\"},{\"patent_id\":\"7159257\",\"patent_number\":\"7159257\",\"patent_title\":\"Disposable protective sheet for furniture\"},{\"patent_id\":\"7159258\",\"patent_number\":\"7159258\",\"patent_title\":\"Replaceable bedding structure\"},{\"patent_id\":\"7159259\",\"patent_number\":\"7159259\",\"patent_title\":\"Gelatinous elastomer compositions and articles\"},{\"patent_id\":\"7159260\",\"patent_number\":\"7159260\",\"patent_title\":\"Multi-purpose trucker's power-puller tool\"},{\"patent_id\":\"7159261\",\"patent_number\":\"7159261\",\"patent_title\":\"Convertible dock ramp\"},{\"patent_id\":\"7159262\",\"patent_number\":\"7159262\",\"patent_title\":\"Bridge overhang bracket\"},{\"patent_id\":\"7159263\",\"patent_number\":\"7159263\",\"patent_title\":\"Flexible plate for swimming pool suction cleaner\"},{\"patent_id\":\"7159264\",\"patent_number\":\"7159264\",\"patent_title\":\"Scraper for cleaning tubular members\"},{\"patent_id\":\"7159265\",\"patent_number\":\"7159265\",\"patent_title\":\"Cleaning brush with disposable\\\\/replaceable brush head\"},{\"patent_id\":\"7159266\",\"patent_number\":\"7159266\",\"patent_title\":\"Brush handle construction\"},{\"patent_id\":\"7159267\",\"patent_number\":\"7159267\",\"patent_title\":\"Cap for wiper connector\"},{\"patent_id\":\"7159268\",\"patent_number\":\"7159268\",\"patent_title\":\"Wiper connector for a motor vehicle comprising a safety fastener\"},{\"patent_id\":\"7159269\",\"patent_number\":\"7159269\",\"patent_title\":\"Backing strip for windshield wiper\"},{\"patent_id\":\"7159270\",\"patent_number\":\"7159270\",\"patent_title\":\"Vacuum cleaner adapters and assemblies including the same\"}],\"count\":25,\"total_patent_count\":100000}</p></body></html>"
      ]
     },
     "execution_count": 4,
     "metadata": {},
     "output_type": "execute_result"
    }
   ],
   "source": [
    "homeSoup  # view the  scrapped  content "
   ]
  },
  {
   "cell_type": "code",
   "execution_count": null,
   "metadata": {},
   "outputs": [],
   "source": []
  },
  {
   "cell_type": "code",
   "execution_count": 49,
   "metadata": {},
   "outputs": [],
   "source": [
    "# This is the second query \n",
    "# use the url to query for a single year\n",
    "# Note the specification of the query data\n",
    "urlHome2 = 'http://www.patentsview.org/api/patents/query? \\\n",
    "            q={\"_and\":[{\"_gte\":{\"patent_date\":\"1992-01-01\"}},{\"_lte\":{\"patent_date\":\"1992-12-31\"}}]}'"
   ]
  },
  {
   "cell_type": "code",
   "execution_count": 32,
   "metadata": {
    "collapsed": true
   },
   "outputs": [],
   "source": [
    "## Do a request and copy content in a variable\n",
    "home2 = requests.get(urlHome2)\n",
    "homeSoup2 = BeautifulSoup(home2.content,'lxml')\n"
   ]
  },
  {
   "cell_type": "code",
   "execution_count": 33,
   "metadata": {},
   "outputs": [
    {
     "data": {
      "text/plain": [
       "u'{\"patents\":[{\"patent_id\":\"5077836\",\"patent_number\":\"5077836\",\"patent_title\":\"Headgear\"},{\"patent_id\":\"5077837\",\"patent_number\":\"5077837\",\"patent_title\":\"Knee or elbow protector\"},{\"patent_id\":\"5077838\",\"patent_number\":\"5077838\",\"patent_title\":\"Convertible outerwear garment\"},{\"patent_id\":\"5077839\",\"patent_number\":\"5077839\",\"patent_title\":\"Helmet chain strap buckle\"},{\"patent_id\":\"5077840\",\"patent_number\":\"5077840\",\"patent_title\":\"Channelling apparatus for a toilet\"},{\"patent_id\":\"5077841\",\"patent_number\":\"5077841\",\"patent_title\":\"Hydromassaging apparatus for use in a bathtub\"},{\"patent_id\":\"5077842\",\"patent_number\":\"5077842\",\"patent_title\":\"Shower apparatus\"},{\"patent_id\":\"5077843\",\"patent_number\":\"5077843\",\"patent_title\":\"Hospital bed and assemblies of hospital care apparatus\"},{\"patent_id\":\"5077844\",\"patent_number\":\"5077844\",\"patent_title\":\"Mechanical apparatus for lifting and moving humans\"},{\"patent_id\":\"5077845\",\"patent_number\":\"5077845\",\"patent_title\":\"Bed with built-in commode\"},{\"patent_id\":\"5077846\",\"patent_number\":\"5077846\",\"patent_title\":\"Crib structure\"},{\"patent_id\":\"5077847\",\"patent_number\":\"5077847\",\"patent_title\":\"Waterbed mattress corner and method of making same\"},{\"patent_id\":\"5077848\",\"patent_number\":\"5077848\",\"patent_title\":\"Wave dampened watermattress with tubes and lumbar support\"},{\"patent_id\":\"5077849\",\"patent_number\":\"5077849\",\"patent_title\":\"Anatomically conformable foam support pad\"},{\"patent_id\":\"5077850\",\"patent_number\":\"5077850\",\"patent_title\":\"Multiple utility device for a key ring\"},{\"patent_id\":\"5077851\",\"patent_number\":\"5077851\",\"patent_title\":\"Method and apparatus for treating corded fabrics\"},{\"patent_id\":\"5077852\",\"patent_number\":\"5077852\",\"patent_title\":\"Loading ramps\"},{\"patent_id\":\"5077853\",\"patent_number\":\"5077853\",\"patent_title\":\"Pool cleaner\"},{\"patent_id\":\"5077854\",\"patent_number\":\"5077854\",\"patent_title\":\"Apparatus for automatically cleaning and dispensing golf balls\"},{\"patent_id\":\"5077855\",\"patent_number\":\"5077855\",\"patent_title\":\"Motor-driven toothbrush\"},{\"patent_id\":\"5077856\",\"patent_number\":\"5077856\",\"patent_title\":\"Lint collection device\"},{\"patent_id\":\"5077857\",\"patent_number\":\"5077857\",\"patent_title\":\"Polishing tool\"},{\"patent_id\":\"5077858\",\"patent_number\":\"5077858\",\"patent_title\":\"Spike and cleat brush\"},{\"patent_id\":\"5077859\",\"patent_number\":\"5077859\",\"patent_title\":\"Vehicle washing apparatus\"},{\"patent_id\":\"5077860\",\"patent_number\":\"5077860\",\"patent_title\":\"Wiper blade assembly with arm to yoke connection\"}],\"count\":25,\"total_patent_count\":100000}'"
      ]
     },
     "execution_count": 33,
     "metadata": {},
     "output_type": "execute_result"
    }
   ],
   "source": [
    "homeSoup2.text # view the content"
   ]
  },
  {
   "cell_type": "code",
   "execution_count": 34,
   "metadata": {},
   "outputs": [],
   "source": [
    "import re # import regular expression library. \n",
    "          # use regular expression to strip what was downloaded from beautiful soup"
   ]
  },
  {
   "cell_type": "code",
   "execution_count": 65,
   "metadata": {},
   "outputs": [],
   "source": [
    "home = re.findall(\"\\{(.*?)\\}\", homeSoup2.text)    # strip the content collected. Remove everything outside the \n",
    "                                                    # curly bracket\n",
    "                                                    # importantly it removes the count and total patent count in the\n",
    "                                                    # last line"
   ]
  },
  {
   "cell_type": "code",
   "execution_count": 67,
   "metadata": {},
   "outputs": [],
   "source": [
    "home2  =  homeSoup2.text    # this returns a list \n",
    "                            # we can remove elements unwanted from the lisy\n",
    "                            # we can keep this for the future"
   ]
  },
  {
   "cell_type": "code",
   "execution_count": 81,
   "metadata": {},
   "outputs": [],
   "source": [
    "# This removes the {\"patents\" in the in the forst element of the list\n",
    "if home[0].startswith('{'):\n",
    "    home[0] = url[12:]"
   ]
  },
  {
   "cell_type": "code",
   "execution_count": 83,
   "metadata": {},
   "outputs": [
    {
     "data": {
      "text/plain": [
       "[u'\"patents\":[{\"patent_id\":\"5077836\",\"patent_number\":\"5077836\",\"patent_title\":\"Headgear\"',\n",
       " u'\"patent_id\":\"5077837\",\"patent_number\":\"5077837\",\"patent_title\":\"Knee or elbow protector\"',\n",
       " u'\"patent_id\":\"5077838\",\"patent_number\":\"5077838\",\"patent_title\":\"Convertible outerwear garment\"',\n",
       " u'\"patent_id\":\"5077839\",\"patent_number\":\"5077839\",\"patent_title\":\"Helmet chain strap buckle\"',\n",
       " u'\"patent_id\":\"5077840\",\"patent_number\":\"5077840\",\"patent_title\":\"Channelling apparatus for a toilet\"',\n",
       " u'\"patent_id\":\"5077841\",\"patent_number\":\"5077841\",\"patent_title\":\"Hydromassaging apparatus for use in a bathtub\"',\n",
       " u'\"patent_id\":\"5077842\",\"patent_number\":\"5077842\",\"patent_title\":\"Shower apparatus\"',\n",
       " u'\"patent_id\":\"5077843\",\"patent_number\":\"5077843\",\"patent_title\":\"Hospital bed and assemblies of hospital care apparatus\"',\n",
       " u'\"patent_id\":\"5077844\",\"patent_number\":\"5077844\",\"patent_title\":\"Mechanical apparatus for lifting and moving humans\"',\n",
       " u'\"patent_id\":\"5077845\",\"patent_number\":\"5077845\",\"patent_title\":\"Bed with built-in commode\"',\n",
       " u'\"patent_id\":\"5077846\",\"patent_number\":\"5077846\",\"patent_title\":\"Crib structure\"',\n",
       " u'\"patent_id\":\"5077847\",\"patent_number\":\"5077847\",\"patent_title\":\"Waterbed mattress corner and method of making same\"',\n",
       " u'\"patent_id\":\"5077848\",\"patent_number\":\"5077848\",\"patent_title\":\"Wave dampened watermattress with tubes and lumbar support\"',\n",
       " u'\"patent_id\":\"5077849\",\"patent_number\":\"5077849\",\"patent_title\":\"Anatomically conformable foam support pad\"',\n",
       " u'\"patent_id\":\"5077850\",\"patent_number\":\"5077850\",\"patent_title\":\"Multiple utility device for a key ring\"',\n",
       " u'\"patent_id\":\"5077851\",\"patent_number\":\"5077851\",\"patent_title\":\"Method and apparatus for treating corded fabrics\"',\n",
       " u'\"patent_id\":\"5077852\",\"patent_number\":\"5077852\",\"patent_title\":\"Loading ramps\"',\n",
       " u'\"patent_id\":\"5077853\",\"patent_number\":\"5077853\",\"patent_title\":\"Pool cleaner\"',\n",
       " u'\"patent_id\":\"5077854\",\"patent_number\":\"5077854\",\"patent_title\":\"Apparatus for automatically cleaning and dispensing golf balls\"',\n",
       " u'\"patent_id\":\"5077855\",\"patent_number\":\"5077855\",\"patent_title\":\"Motor-driven toothbrush\"',\n",
       " u'\"patent_id\":\"5077856\",\"patent_number\":\"5077856\",\"patent_title\":\"Lint collection device\"',\n",
       " u'\"patent_id\":\"5077857\",\"patent_number\":\"5077857\",\"patent_title\":\"Polishing tool\"',\n",
       " u'\"patent_id\":\"5077858\",\"patent_number\":\"5077858\",\"patent_title\":\"Spike and cleat brush\"',\n",
       " u'\"patent_id\":\"5077859\",\"patent_number\":\"5077859\",\"patent_title\":\"Vehicle washing apparatus\"',\n",
       " u'\"patent_id\":\"5077860\",\"patent_number\":\"5077860\",\"patent_title\":\"Wiper blade assembly with arm to yoke connection\"']"
      ]
     },
     "execution_count": 83,
     "metadata": {},
     "output_type": "execute_result"
    }
   ],
   "source": [
    "home # this is a list. Each item on the list can then be reprocessed. And put in data frame for each year\n",
    "    "
   ]
  },
  {
   "cell_type": "code",
   "execution_count": null,
   "metadata": {
    "collapsed": true
   },
   "outputs": [],
   "source": []
  },
  {
   "cell_type": "code",
   "execution_count": null,
   "metadata": {
    "collapsed": true
   },
   "outputs": [],
   "source": []
  },
  {
   "cell_type": "code",
   "execution_count": null,
   "metadata": {
    "collapsed": true
   },
   "outputs": [],
   "source": []
  },
  {
   "cell_type": "code",
   "execution_count": null,
   "metadata": {
    "collapsed": true
   },
   "outputs": [],
   "source": []
  },
  {
   "cell_type": "code",
   "execution_count": null,
   "metadata": {
    "collapsed": true
   },
   "outputs": [],
   "source": []
  },
  {
   "cell_type": "code",
   "execution_count": null,
   "metadata": {
    "collapsed": true
   },
   "outputs": [],
   "source": []
  },
  {
   "cell_type": "code",
   "execution_count": null,
   "metadata": {
    "collapsed": true
   },
   "outputs": [],
   "source": []
  },
  {
   "cell_type": "code",
   "execution_count": null,
   "metadata": {
    "collapsed": true
   },
   "outputs": [],
   "source": []
  },
  {
   "cell_type": "code",
   "execution_count": null,
   "metadata": {
    "collapsed": true
   },
   "outputs": [],
   "source": []
  }
 ],
 "metadata": {
  "kernelspec": {
   "display_name": "Python 2",
   "language": "python",
   "name": "python2"
  },
  "language_info": {
   "codemirror_mode": {
    "name": "ipython",
    "version": 2
   },
   "file_extension": ".py",
   "mimetype": "text/x-python",
   "name": "python",
   "nbconvert_exporter": "python",
   "pygments_lexer": "ipython2",
   "version": "2.7.13"
  }
 },
 "nbformat": 4,
 "nbformat_minor": 2
}
