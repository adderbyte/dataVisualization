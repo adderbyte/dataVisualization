{
 "cells": [
  {
   "cell_type": "code",
   "execution_count": 1,
   "metadata": {
    "collapsed": true
   },
   "outputs": [],
   "source": [
    "%matplotlib inline\n",
    "import pandas as pd\n",
    "import requests\n",
    "from bs4 import BeautifulSoup\n",
    "import sys\n",
    "import numpy as np\n",
    "import matplotlib.pyplot as plt\n",
    "\n"
   ]
  },
  {
   "cell_type": "markdown",
   "metadata": {},
   "source": [
    "    *******  Outcome *********************\n",
    "    > To do the get request from URL\n",
    "    > First query tested a single date\n",
    "    > Second query returns a full year\n",
    "    > Final pipeline of cleanong retuns a list whioch is easy to work with\n",
    "    \n",
    "    ******* To Do ***********************\n",
    "    > No location in the returned content. Check the doc on how to inclide location info\n",
    "    > Use a for loop to return values for all year. Only a single year was tested year.\n",
    "    > From the lists make a dictionsy and then a data frame to begin analysis\n",
    "    > Concatenate data frame to begin analysis\n",
    "    \n"
   ]
  },
  {
   "cell_type": "code",
   "execution_count": 2,
   "metadata": {
    "collapsed": true
   },
   "outputs": [],
   "source": [
    "# this variable holds the url \n",
    "# Note that it queries for a partivcular patent data\n",
    "urlHome = 'http://www.patentsview.org/api/patents/query?q={\"_gte\":{\"patent_date\":\"2007-01-04\"}}' "
   ]
  },
  {
   "cell_type": "code",
   "execution_count": 3,
   "metadata": {
    "collapsed": true
   },
   "outputs": [],
   "source": [
    "# use beautiful soup to do aget request \n",
    "home = requests.get(urlHome)\n",
    "# Store the contents of request in another variable\n",
    "homeSoup = BeautifulSoup(home.content,'lxml')\n"
   ]
  },
  {
   "cell_type": "code",
   "execution_count": 4,
   "metadata": {},
   "outputs": [
    {
     "data": {
      "text/plain": [
       "<html><body><p>{\"patents\":[{\"patent_id\":\"7159246\",\"patent_number\":\"7159246\",\"patent_title\":\"Glove with high tactile portion\"},{\"patent_id\":\"7159247\",\"patent_number\":\"7159247\",\"patent_title\":\"Cap having a flexible headband\"},{\"patent_id\":\"7159248\",\"patent_number\":\"7159248\",\"patent_title\":\"Head covering with attached whistle\"},{\"patent_id\":\"7159249\",\"patent_number\":\"7159249\",\"patent_title\":\"Self-balancing, load-distributing helmet structure\"},{\"patent_id\":\"7159250\",\"patent_number\":\"7159250\",\"patent_title\":\"Swimming goggles\"},{\"patent_id\":\"7159251\",\"patent_number\":\"7159251\",\"patent_title\":\"Water saver flush system\"},{\"patent_id\":\"7159252\",\"patent_number\":\"7159252\",\"patent_title\":\"Folding sink\"},{\"patent_id\":\"7159253\",\"patent_number\":\"7159253\",\"patent_title\":\"Modular headboard and method of assembly\"},{\"patent_id\":\"7159254\",\"patent_number\":\"7159254\",\"patent_title\":\"Motorized hammock swinging assembly\"},{\"patent_id\":\"7159255\",\"patent_number\":\"7159255\",\"patent_title\":\"Support base for a bed mattress\"},{\"patent_id\":\"7159256\",\"patent_number\":\"7159256\",\"patent_title\":\"Multifunctional outdoor blanket anchors\"},{\"patent_id\":\"7159257\",\"patent_number\":\"7159257\",\"patent_title\":\"Disposable protective sheet for furniture\"},{\"patent_id\":\"7159258\",\"patent_number\":\"7159258\",\"patent_title\":\"Replaceable bedding structure\"},{\"patent_id\":\"7159259\",\"patent_number\":\"7159259\",\"patent_title\":\"Gelatinous elastomer compositions and articles\"},{\"patent_id\":\"7159260\",\"patent_number\":\"7159260\",\"patent_title\":\"Multi-purpose trucker's power-puller tool\"},{\"patent_id\":\"7159261\",\"patent_number\":\"7159261\",\"patent_title\":\"Convertible dock ramp\"},{\"patent_id\":\"7159262\",\"patent_number\":\"7159262\",\"patent_title\":\"Bridge overhang bracket\"},{\"patent_id\":\"7159263\",\"patent_number\":\"7159263\",\"patent_title\":\"Flexible plate for swimming pool suction cleaner\"},{\"patent_id\":\"7159264\",\"patent_number\":\"7159264\",\"patent_title\":\"Scraper for cleaning tubular members\"},{\"patent_id\":\"7159265\",\"patent_number\":\"7159265\",\"patent_title\":\"Cleaning brush with disposable\\\\/replaceable brush head\"},{\"patent_id\":\"7159266\",\"patent_number\":\"7159266\",\"patent_title\":\"Brush handle construction\"},{\"patent_id\":\"7159267\",\"patent_number\":\"7159267\",\"patent_title\":\"Cap for wiper connector\"},{\"patent_id\":\"7159268\",\"patent_number\":\"7159268\",\"patent_title\":\"Wiper connector for a motor vehicle comprising a safety fastener\"},{\"patent_id\":\"7159269\",\"patent_number\":\"7159269\",\"patent_title\":\"Backing strip for windshield wiper\"},{\"patent_id\":\"7159270\",\"patent_number\":\"7159270\",\"patent_title\":\"Vacuum cleaner adapters and assemblies including the same\"}],\"count\":25,\"total_patent_count\":100000}</p></body></html>"
      ]
     },
     "execution_count": 4,
     "metadata": {},
     "output_type": "execute_result"
    }
   ],
   "source": [
    "homeSoup  # view the  scrapped  content "
   ]
  },
  {
   "cell_type": "code",
   "execution_count": null,
   "metadata": {
    "collapsed": true
   },
   "outputs": [],
   "source": []
  },
  {
   "cell_type": "code",
   "execution_count": 49,
   "metadata": {
    "collapsed": true
   },
   "outputs": [],
   "source": [
    "# This is the second query \n",
    "# use the url to query for a single year\n",
    "# Note the specification of the query data\n",
    "urlHome2 = 'http://www.patentsview.org/api/patents/query? \\\n",
    "            q={\"_and\":[{\"_gte\":{\"patent_date\":\"1992-01-01\"}},{\"_lte\":{\"patent_date\":\"1992-12-31\"}}]}'"
   ]
  },
  {
   "cell_type": "code",
   "execution_count": 32,
   "metadata": {
    "collapsed": true
   },
   "outputs": [],
   "source": [
    "## Do a request and copy content in a variable\n",
    "home2 = requests.get(urlHome2)\n",
    "homeSoup2 = BeautifulSoup(home2.content,'lxml')\n"
   ]
  },
  {
   "cell_type": "code",
   "execution_count": 33,
   "metadata": {},
   "outputs": [
    {
     "data": {
      "text/plain": [
       "u'{\"patents\":[{\"patent_id\":\"5077836\",\"patent_number\":\"5077836\",\"patent_title\":\"Headgear\"},{\"patent_id\":\"5077837\",\"patent_number\":\"5077837\",\"patent_title\":\"Knee or elbow protector\"},{\"patent_id\":\"5077838\",\"patent_number\":\"5077838\",\"patent_title\":\"Convertible outerwear garment\"},{\"patent_id\":\"5077839\",\"patent_number\":\"5077839\",\"patent_title\":\"Helmet chain strap buckle\"},{\"patent_id\":\"5077840\",\"patent_number\":\"5077840\",\"patent_title\":\"Channelling apparatus for a toilet\"},{\"patent_id\":\"5077841\",\"patent_number\":\"5077841\",\"patent_title\":\"Hydromassaging apparatus for use in a bathtub\"},{\"patent_id\":\"5077842\",\"patent_number\":\"5077842\",\"patent_title\":\"Shower apparatus\"},{\"patent_id\":\"5077843\",\"patent_number\":\"5077843\",\"patent_title\":\"Hospital bed and assemblies of hospital care apparatus\"},{\"patent_id\":\"5077844\",\"patent_number\":\"5077844\",\"patent_title\":\"Mechanical apparatus for lifting and moving humans\"},{\"patent_id\":\"5077845\",\"patent_number\":\"5077845\",\"patent_title\":\"Bed with built-in commode\"},{\"patent_id\":\"5077846\",\"patent_number\":\"5077846\",\"patent_title\":\"Crib structure\"},{\"patent_id\":\"5077847\",\"patent_number\":\"5077847\",\"patent_title\":\"Waterbed mattress corner and method of making same\"},{\"patent_id\":\"5077848\",\"patent_number\":\"5077848\",\"patent_title\":\"Wave dampened watermattress with tubes and lumbar support\"},{\"patent_id\":\"5077849\",\"patent_number\":\"5077849\",\"patent_title\":\"Anatomically conformable foam support pad\"},{\"patent_id\":\"5077850\",\"patent_number\":\"5077850\",\"patent_title\":\"Multiple utility device for a key ring\"},{\"patent_id\":\"5077851\",\"patent_number\":\"5077851\",\"patent_title\":\"Method and apparatus for treating corded fabrics\"},{\"patent_id\":\"5077852\",\"patent_number\":\"5077852\",\"patent_title\":\"Loading ramps\"},{\"patent_id\":\"5077853\",\"patent_number\":\"5077853\",\"patent_title\":\"Pool cleaner\"},{\"patent_id\":\"5077854\",\"patent_number\":\"5077854\",\"patent_title\":\"Apparatus for automatically cleaning and dispensing golf balls\"},{\"patent_id\":\"5077855\",\"patent_number\":\"5077855\",\"patent_title\":\"Motor-driven toothbrush\"},{\"patent_id\":\"5077856\",\"patent_number\":\"5077856\",\"patent_title\":\"Lint collection device\"},{\"patent_id\":\"5077857\",\"patent_number\":\"5077857\",\"patent_title\":\"Polishing tool\"},{\"patent_id\":\"5077858\",\"patent_number\":\"5077858\",\"patent_title\":\"Spike and cleat brush\"},{\"patent_id\":\"5077859\",\"patent_number\":\"5077859\",\"patent_title\":\"Vehicle washing apparatus\"},{\"patent_id\":\"5077860\",\"patent_number\":\"5077860\",\"patent_title\":\"Wiper blade assembly with arm to yoke connection\"}],\"count\":25,\"total_patent_count\":100000}'"
      ]
     },
     "execution_count": 33,
     "metadata": {},
     "output_type": "execute_result"
    }
   ],
   "source": [
    "homeSoup2.text # view the content"
   ]
  },
  {
   "cell_type": "code",
   "execution_count": 34,
   "metadata": {
    "collapsed": true
   },
   "outputs": [],
   "source": [
    "import re # import regular expression library. \n",
    "          # use regular expression to strip what was downloaded from beautiful soup"
   ]
  },
  {
   "cell_type": "code",
   "execution_count": 65,
   "metadata": {
    "collapsed": true
   },
   "outputs": [],
   "source": [
    "home = re.findall(\"\\{(.*?)\\}\", homeSoup2.text)    # strip the content collected. Remove everything outside the \n",
    "                                                    # curly bracket\n",
    "                                                    # importantly it removes the count and total patent count in the\n",
    "                                                    # last line"
   ]
  },
  {
   "cell_type": "code",
   "execution_count": 67,
   "metadata": {
    "collapsed": true
   },
   "outputs": [],
   "source": [
    "home2  =  homeSoup2.text    # this returns a list \n",
    "                            # we can remove elements unwanted from the lisy\n",
    "                            # we can keep this for the future"
   ]
  },
  {
   "cell_type": "code",
   "execution_count": 81,
   "metadata": {
    "collapsed": true
   },
   "outputs": [],
   "source": [
    "# This removes the {\"patents\" in the in the forst element of the list\n",
    "if home[0].startswith('{'):\n",
    "    home[0] = url[12:]"
   ]
  },
  {
   "cell_type": "code",
   "execution_count": 83,
   "metadata": {},
   "outputs": [
    {
     "data": {
      "text/plain": [
       "[u'\"patents\":[{\"patent_id\":\"5077836\",\"patent_number\":\"5077836\",\"patent_title\":\"Headgear\"',\n",
       " u'\"patent_id\":\"5077837\",\"patent_number\":\"5077837\",\"patent_title\":\"Knee or elbow protector\"',\n",
       " u'\"patent_id\":\"5077838\",\"patent_number\":\"5077838\",\"patent_title\":\"Convertible outerwear garment\"',\n",
       " u'\"patent_id\":\"5077839\",\"patent_number\":\"5077839\",\"patent_title\":\"Helmet chain strap buckle\"',\n",
       " u'\"patent_id\":\"5077840\",\"patent_number\":\"5077840\",\"patent_title\":\"Channelling apparatus for a toilet\"',\n",
       " u'\"patent_id\":\"5077841\",\"patent_number\":\"5077841\",\"patent_title\":\"Hydromassaging apparatus for use in a bathtub\"',\n",
       " u'\"patent_id\":\"5077842\",\"patent_number\":\"5077842\",\"patent_title\":\"Shower apparatus\"',\n",
       " u'\"patent_id\":\"5077843\",\"patent_number\":\"5077843\",\"patent_title\":\"Hospital bed and assemblies of hospital care apparatus\"',\n",
       " u'\"patent_id\":\"5077844\",\"patent_number\":\"5077844\",\"patent_title\":\"Mechanical apparatus for lifting and moving humans\"',\n",
       " u'\"patent_id\":\"5077845\",\"patent_number\":\"5077845\",\"patent_title\":\"Bed with built-in commode\"',\n",
       " u'\"patent_id\":\"5077846\",\"patent_number\":\"5077846\",\"patent_title\":\"Crib structure\"',\n",
       " u'\"patent_id\":\"5077847\",\"patent_number\":\"5077847\",\"patent_title\":\"Waterbed mattress corner and method of making same\"',\n",
       " u'\"patent_id\":\"5077848\",\"patent_number\":\"5077848\",\"patent_title\":\"Wave dampened watermattress with tubes and lumbar support\"',\n",
       " u'\"patent_id\":\"5077849\",\"patent_number\":\"5077849\",\"patent_title\":\"Anatomically conformable foam support pad\"',\n",
       " u'\"patent_id\":\"5077850\",\"patent_number\":\"5077850\",\"patent_title\":\"Multiple utility device for a key ring\"',\n",
       " u'\"patent_id\":\"5077851\",\"patent_number\":\"5077851\",\"patent_title\":\"Method and apparatus for treating corded fabrics\"',\n",
       " u'\"patent_id\":\"5077852\",\"patent_number\":\"5077852\",\"patent_title\":\"Loading ramps\"',\n",
       " u'\"patent_id\":\"5077853\",\"patent_number\":\"5077853\",\"patent_title\":\"Pool cleaner\"',\n",
       " u'\"patent_id\":\"5077854\",\"patent_number\":\"5077854\",\"patent_title\":\"Apparatus for automatically cleaning and dispensing golf balls\"',\n",
       " u'\"patent_id\":\"5077855\",\"patent_number\":\"5077855\",\"patent_title\":\"Motor-driven toothbrush\"',\n",
       " u'\"patent_id\":\"5077856\",\"patent_number\":\"5077856\",\"patent_title\":\"Lint collection device\"',\n",
       " u'\"patent_id\":\"5077857\",\"patent_number\":\"5077857\",\"patent_title\":\"Polishing tool\"',\n",
       " u'\"patent_id\":\"5077858\",\"patent_number\":\"5077858\",\"patent_title\":\"Spike and cleat brush\"',\n",
       " u'\"patent_id\":\"5077859\",\"patent_number\":\"5077859\",\"patent_title\":\"Vehicle washing apparatus\"',\n",
       " u'\"patent_id\":\"5077860\",\"patent_number\":\"5077860\",\"patent_title\":\"Wiper blade assembly with arm to yoke connection\"']"
      ]
     },
     "execution_count": 83,
     "metadata": {},
     "output_type": "execute_result"
    }
   ],
   "source": [
    "home # this is a list. Each item on the list can then be reprocessed. And put in data frame for each year\n",
    "    "
   ]
  },
  {
   "cell_type": "markdown",
   "metadata": {
    "collapsed": true
   },
   "source": [
    "#  Data sets\n",
    "http://www.nber.org/patents/"
   ]
  },
  {
   "cell_type": "markdown",
   "metadata": {},
   "source": [
    "  > Apart from scrapped data sets we will also be using data sets from http://www.nber.org/patents/ . Below we provide preprocessing of this data set"
   ]
  },
  {
   "cell_type": "code",
   "execution_count": 2,
   "metadata": {
    "collapsed": true
   },
   "outputs": [],
   "source": [
    "# import inventor record\n",
    "inventors_record = pd.read_csv(\"ainventor.txt\", low_memory=False)"
   ]
  },
  {
   "cell_type": "code",
   "execution_count": 3,
   "metadata": {},
   "outputs": [
    {
     "data": {
      "text/html": [
       "<div>\n",
       "<table border=\"1\" class=\"dataframe\">\n",
       "  <thead>\n",
       "    <tr style=\"text-align: right;\">\n",
       "      <th></th>\n",
       "      <th>PATENT</th>\n",
       "      <th>LASTNAM</th>\n",
       "      <th>FIRSTNAM</th>\n",
       "      <th>MIDNAM</th>\n",
       "      <th>MODIFNAM</th>\n",
       "      <th>STREET</th>\n",
       "      <th>CITY</th>\n",
       "      <th>POSTATE</th>\n",
       "      <th>COUNTRY</th>\n",
       "      <th>ZIP</th>\n",
       "      <th>INVSEQ</th>\n",
       "    </tr>\n",
       "  </thead>\n",
       "  <tbody>\n",
       "    <tr>\n",
       "      <th>0</th>\n",
       "      <td>3858241</td>\n",
       "      <td>Durand</td>\n",
       "      <td>Philip</td>\n",
       "      <td>E.</td>\n",
       "      <td>NaN</td>\n",
       "      <td>NaN</td>\n",
       "      <td>Hudson</td>\n",
       "      <td>MA</td>\n",
       "      <td>US</td>\n",
       "      <td>NaN</td>\n",
       "      <td>1</td>\n",
       "    </tr>\n",
       "    <tr>\n",
       "      <th>1</th>\n",
       "      <td>3858241</td>\n",
       "      <td>Norris</td>\n",
       "      <td>Lonnie</td>\n",
       "      <td>H.</td>\n",
       "      <td>NaN</td>\n",
       "      <td>NaN</td>\n",
       "      <td>Milford</td>\n",
       "      <td>MA</td>\n",
       "      <td>US</td>\n",
       "      <td>NaN</td>\n",
       "      <td>2</td>\n",
       "    </tr>\n",
       "    <tr>\n",
       "      <th>2</th>\n",
       "      <td>3858242</td>\n",
       "      <td>Gooding</td>\n",
       "      <td>Elwyn</td>\n",
       "      <td>R.</td>\n",
       "      <td>NaN</td>\n",
       "      <td>120 Darwin Rd.</td>\n",
       "      <td>Pinckney</td>\n",
       "      <td>MI</td>\n",
       "      <td>US</td>\n",
       "      <td>48169</td>\n",
       "      <td>1</td>\n",
       "    </tr>\n",
       "    <tr>\n",
       "      <th>3</th>\n",
       "      <td>3858243</td>\n",
       "      <td>Pierron</td>\n",
       "      <td>Claude</td>\n",
       "      <td>Raymond</td>\n",
       "      <td>NaN</td>\n",
       "      <td>NaN</td>\n",
       "      <td>Epinal</td>\n",
       "      <td>NaN</td>\n",
       "      <td>FR</td>\n",
       "      <td>NaN</td>\n",
       "      <td>1</td>\n",
       "    </tr>\n",
       "    <tr>\n",
       "      <th>4</th>\n",
       "      <td>3858243</td>\n",
       "      <td>Jenny</td>\n",
       "      <td>Jean</td>\n",
       "      <td>Paul</td>\n",
       "      <td>NaN</td>\n",
       "      <td>NaN</td>\n",
       "      <td>Decines</td>\n",
       "      <td>NaN</td>\n",
       "      <td>FR</td>\n",
       "      <td>NaN</td>\n",
       "      <td>2</td>\n",
       "    </tr>\n",
       "  </tbody>\n",
       "</table>\n",
       "</div>"
      ],
      "text/plain": [
       "    PATENT  LASTNAM FIRSTNAM   MIDNAM MODIFNAM          STREET      CITY  \\\n",
       "0  3858241   Durand   Philip       E.      NaN             NaN    Hudson   \n",
       "1  3858241   Norris   Lonnie       H.      NaN             NaN   Milford   \n",
       "2  3858242  Gooding    Elwyn       R.      NaN  120 Darwin Rd.  Pinckney   \n",
       "3  3858243  Pierron   Claude  Raymond      NaN             NaN    Epinal   \n",
       "4  3858243    Jenny     Jean     Paul      NaN             NaN   Decines   \n",
       "\n",
       "  POSTATE COUNTRY    ZIP  INVSEQ  \n",
       "0      MA      US    NaN       1  \n",
       "1      MA      US    NaN       2  \n",
       "2      MI      US  48169       1  \n",
       "3     NaN      FR    NaN       1  \n",
       "4     NaN      FR    NaN       2  "
      ]
     },
     "execution_count": 3,
     "metadata": {},
     "output_type": "execute_result"
    }
   ],
   "source": [
    "inventors_record.head() # see inventors record "
   ]
  },
  {
   "cell_type": "code",
   "execution_count": 4,
   "metadata": {},
   "outputs": [
    {
     "data": {
      "text/html": [
       "<div>\n",
       "<table border=\"1\" class=\"dataframe\">\n",
       "  <thead>\n",
       "    <tr style=\"text-align: right;\">\n",
       "      <th></th>\n",
       "      <th>PATENT</th>\n",
       "      <th>INVSEQ</th>\n",
       "    </tr>\n",
       "  </thead>\n",
       "  <tbody>\n",
       "    <tr>\n",
       "      <th>count</th>\n",
       "      <td>4.301229e+06</td>\n",
       "      <td>4.301229e+06</td>\n",
       "    </tr>\n",
       "    <tr>\n",
       "      <th>mean</th>\n",
       "      <td>4.997507e+06</td>\n",
       "      <td>2.008670e+00</td>\n",
       "    </tr>\n",
       "    <tr>\n",
       "      <th>std</th>\n",
       "      <td>6.162319e+05</td>\n",
       "      <td>1.486188e+00</td>\n",
       "    </tr>\n",
       "    <tr>\n",
       "      <th>min</th>\n",
       "      <td>3.858241e+06</td>\n",
       "      <td>1.000000e+00</td>\n",
       "    </tr>\n",
       "    <tr>\n",
       "      <th>25%</th>\n",
       "      <td>4.475992e+06</td>\n",
       "      <td>1.000000e+00</td>\n",
       "    </tr>\n",
       "    <tr>\n",
       "      <th>50%</th>\n",
       "      <td>5.030897e+06</td>\n",
       "      <td>2.000000e+00</td>\n",
       "    </tr>\n",
       "    <tr>\n",
       "      <th>75%</th>\n",
       "      <td>5.533738e+06</td>\n",
       "      <td>2.000000e+00</td>\n",
       "    </tr>\n",
       "    <tr>\n",
       "      <th>max</th>\n",
       "      <td>6.009554e+06</td>\n",
       "      <td>3.400000e+01</td>\n",
       "    </tr>\n",
       "  </tbody>\n",
       "</table>\n",
       "</div>"
      ],
      "text/plain": [
       "             PATENT        INVSEQ\n",
       "count  4.301229e+06  4.301229e+06\n",
       "mean   4.997507e+06  2.008670e+00\n",
       "std    6.162319e+05  1.486188e+00\n",
       "min    3.858241e+06  1.000000e+00\n",
       "25%    4.475992e+06  1.000000e+00\n",
       "50%    5.030897e+06  2.000000e+00\n",
       "75%    5.533738e+06  2.000000e+00\n",
       "max    6.009554e+06  3.400000e+01"
      ]
     },
     "execution_count": 4,
     "metadata": {},
     "output_type": "execute_result"
    }
   ],
   "source": [
    "inventors_record.describe() # summary of data # INVSEQ= inventor sequence number"
   ]
  },
  {
   "cell_type": "code",
   "execution_count": 5,
   "metadata": {},
   "outputs": [
    {
     "data": {
      "text/plain": [
       "(4301229, 11)"
      ]
     },
     "execution_count": 5,
     "metadata": {},
     "output_type": "execute_result"
    }
   ],
   "source": [
    "inventors_record.shape # check size of data set"
   ]
  },
  {
   "cell_type": "code",
   "execution_count": 6,
   "metadata": {},
   "outputs": [
    {
     "data": {
      "text/plain": [
       "Index([u'PATENT', u'LASTNAM', u'FIRSTNAM', u'MIDNAM', u'MODIFNAM', u'STREET',\n",
       "       u'CITY', u'POSTATE', u'COUNTRY', u'ZIP', u'INVSEQ'],\n",
       "      dtype='object')"
      ]
     },
     "execution_count": 6,
     "metadata": {},
     "output_type": "execute_result"
    }
   ],
   "source": [
    "inventors_record.columns # check the columns of data "
   ]
  },
  {
   "cell_type": "code",
   "execution_count": 7,
   "metadata": {},
   "outputs": [
    {
     "name": "stdout",
     "output_type": "stream",
     "text": [
      "('The number of columns in data set ', (11,))\n"
     ]
    }
   ],
   "source": [
    "print (\"The number of columns in data set \", inventors_record.columns.shape) #"
   ]
  },
  {
   "cell_type": "code",
   "execution_count": 8,
   "metadata": {},
   "outputs": [
    {
     "name": "stdout",
     "output_type": "stream",
     "text": [
      "PATENT\n",
      "('Null status: ', False)\n",
      "LASTNAM\n",
      "('Null status: ', False)\n",
      "FIRSTNAM\n",
      "('Null status: ', True)\n",
      "MIDNAM\n",
      "('Null status: ', True)\n",
      "MODIFNAM\n",
      "('Null status: ', True)\n",
      "STREET\n",
      "('Null status: ', True)\n",
      "CITY\n",
      "('Null status: ', True)\n",
      "POSTATE\n",
      "('Null status: ', True)\n",
      "COUNTRY\n",
      "('Null status: ', False)\n",
      "ZIP\n",
      "('Null status: ', True)\n",
      "INVSEQ\n",
      "('Null status: ', False)\n"
     ]
    }
   ],
   "source": [
    "# check columns with null values\n",
    "for i in inventors_record.columns:\n",
    "    print (i) \n",
    "    i = str(i)\n",
    "    print (\"Null status: \", inventors_record[i].isnull().values.any())\n",
    "    "
   ]
  },
  {
   "cell_type": "markdown",
   "metadata": {},
   "source": [
    " <p> <b> From above there are four columns without null values </b> </p>"
   ]
  },
  {
   "cell_type": "code",
   "execution_count": 9,
   "metadata": {},
   "outputs": [
    {
     "name": "stdout",
     "output_type": "stream",
     "text": [
      "PATENT\n",
      "LASTNAM\n",
      "COUNTRY\n",
      "INVSEQ\n",
      "('Total coulumns without Nan', 4)\n"
     ]
    }
   ],
   "source": [
    "count =0 \n",
    "for i in inventors_record.columns:\n",
    "    i = str(i)\n",
    "    if inventors_record[i].isnull().values.any() == False:\n",
    "        print (i)\n",
    "        count += 1;\n",
    "print (\"Total coulumns without Nan\", count)\n",
    "        \n",
    "    "
   ]
  },
  {
   "cell_type": "code",
   "execution_count": 10,
   "metadata": {
    "collapsed": true
   },
   "outputs": [],
   "source": [
    "patent_data = pd.read_csv(\"apat63_99.txt\", low_memory=False)"
   ]
  },
  {
   "cell_type": "code",
   "execution_count": 11,
   "metadata": {},
   "outputs": [
    {
     "data": {
      "text/plain": [
       "Index([u'PATENT', u'GYEAR', u'GDATE', u'APPYEAR', u'COUNTRY', u'POSTATE',\n",
       "       u'ASSIGNEE', u'ASSCODE', u'CLAIMS', u'NCLASS', u'CAT', u'SUBCAT',\n",
       "       u'CMADE', u'CRECEIVE', u'RATIOCIT', u'GENERAL', u'ORIGINAL',\n",
       "       u'FWDAPLAG', u'BCKGTLAG', u'SELFCTUB', u'SELFCTLB', u'SECDUPBD',\n",
       "       u'SECDLWBD'],\n",
       "      dtype='object')"
      ]
     },
     "execution_count": 11,
     "metadata": {},
     "output_type": "execute_result"
    }
   ],
   "source": [
    "patent_data.columns"
   ]
  },
  {
   "cell_type": "code",
   "execution_count": 12,
   "metadata": {},
   "outputs": [
    {
     "data": {
      "text/html": [
       "<div>\n",
       "<table border=\"1\" class=\"dataframe\">\n",
       "  <thead>\n",
       "    <tr style=\"text-align: right;\">\n",
       "      <th></th>\n",
       "      <th>PATENT</th>\n",
       "      <th>GYEAR</th>\n",
       "      <th>GDATE</th>\n",
       "      <th>APPYEAR</th>\n",
       "      <th>COUNTRY</th>\n",
       "      <th>POSTATE</th>\n",
       "      <th>ASSIGNEE</th>\n",
       "      <th>ASSCODE</th>\n",
       "      <th>CLAIMS</th>\n",
       "      <th>NCLASS</th>\n",
       "      <th>...</th>\n",
       "      <th>CRECEIVE</th>\n",
       "      <th>RATIOCIT</th>\n",
       "      <th>GENERAL</th>\n",
       "      <th>ORIGINAL</th>\n",
       "      <th>FWDAPLAG</th>\n",
       "      <th>BCKGTLAG</th>\n",
       "      <th>SELFCTUB</th>\n",
       "      <th>SELFCTLB</th>\n",
       "      <th>SECDUPBD</th>\n",
       "      <th>SECDLWBD</th>\n",
       "    </tr>\n",
       "  </thead>\n",
       "  <tbody>\n",
       "    <tr>\n",
       "      <th>0</th>\n",
       "      <td>3070801</td>\n",
       "      <td>1963</td>\n",
       "      <td>1096</td>\n",
       "      <td>NaN</td>\n",
       "      <td>BE</td>\n",
       "      <td>NaN</td>\n",
       "      <td>NaN</td>\n",
       "      <td>1</td>\n",
       "      <td>NaN</td>\n",
       "      <td>269</td>\n",
       "      <td>...</td>\n",
       "      <td>1</td>\n",
       "      <td>NaN</td>\n",
       "      <td>0.0000</td>\n",
       "      <td>NaN</td>\n",
       "      <td>NaN</td>\n",
       "      <td>NaN</td>\n",
       "      <td>NaN</td>\n",
       "      <td>NaN</td>\n",
       "      <td>NaN</td>\n",
       "      <td>NaN</td>\n",
       "    </tr>\n",
       "    <tr>\n",
       "      <th>1</th>\n",
       "      <td>3070802</td>\n",
       "      <td>1963</td>\n",
       "      <td>1096</td>\n",
       "      <td>NaN</td>\n",
       "      <td>US</td>\n",
       "      <td>TX</td>\n",
       "      <td>NaN</td>\n",
       "      <td>1</td>\n",
       "      <td>NaN</td>\n",
       "      <td>2</td>\n",
       "      <td>...</td>\n",
       "      <td>0</td>\n",
       "      <td>NaN</td>\n",
       "      <td>NaN</td>\n",
       "      <td>NaN</td>\n",
       "      <td>NaN</td>\n",
       "      <td>NaN</td>\n",
       "      <td>NaN</td>\n",
       "      <td>NaN</td>\n",
       "      <td>NaN</td>\n",
       "      <td>NaN</td>\n",
       "    </tr>\n",
       "    <tr>\n",
       "      <th>2</th>\n",
       "      <td>3070803</td>\n",
       "      <td>1963</td>\n",
       "      <td>1096</td>\n",
       "      <td>NaN</td>\n",
       "      <td>US</td>\n",
       "      <td>IL</td>\n",
       "      <td>NaN</td>\n",
       "      <td>1</td>\n",
       "      <td>NaN</td>\n",
       "      <td>2</td>\n",
       "      <td>...</td>\n",
       "      <td>9</td>\n",
       "      <td>NaN</td>\n",
       "      <td>0.3704</td>\n",
       "      <td>NaN</td>\n",
       "      <td>NaN</td>\n",
       "      <td>NaN</td>\n",
       "      <td>NaN</td>\n",
       "      <td>NaN</td>\n",
       "      <td>NaN</td>\n",
       "      <td>NaN</td>\n",
       "    </tr>\n",
       "    <tr>\n",
       "      <th>3</th>\n",
       "      <td>3070804</td>\n",
       "      <td>1963</td>\n",
       "      <td>1096</td>\n",
       "      <td>NaN</td>\n",
       "      <td>US</td>\n",
       "      <td>OH</td>\n",
       "      <td>NaN</td>\n",
       "      <td>1</td>\n",
       "      <td>NaN</td>\n",
       "      <td>2</td>\n",
       "      <td>...</td>\n",
       "      <td>3</td>\n",
       "      <td>NaN</td>\n",
       "      <td>0.6667</td>\n",
       "      <td>NaN</td>\n",
       "      <td>NaN</td>\n",
       "      <td>NaN</td>\n",
       "      <td>NaN</td>\n",
       "      <td>NaN</td>\n",
       "      <td>NaN</td>\n",
       "      <td>NaN</td>\n",
       "    </tr>\n",
       "    <tr>\n",
       "      <th>4</th>\n",
       "      <td>3070805</td>\n",
       "      <td>1963</td>\n",
       "      <td>1096</td>\n",
       "      <td>NaN</td>\n",
       "      <td>US</td>\n",
       "      <td>CA</td>\n",
       "      <td>NaN</td>\n",
       "      <td>1</td>\n",
       "      <td>NaN</td>\n",
       "      <td>2</td>\n",
       "      <td>...</td>\n",
       "      <td>1</td>\n",
       "      <td>NaN</td>\n",
       "      <td>0.0000</td>\n",
       "      <td>NaN</td>\n",
       "      <td>NaN</td>\n",
       "      <td>NaN</td>\n",
       "      <td>NaN</td>\n",
       "      <td>NaN</td>\n",
       "      <td>NaN</td>\n",
       "      <td>NaN</td>\n",
       "    </tr>\n",
       "  </tbody>\n",
       "</table>\n",
       "<p>5 rows × 23 columns</p>\n",
       "</div>"
      ],
      "text/plain": [
       "    PATENT  GYEAR  GDATE  APPYEAR COUNTRY POSTATE  ASSIGNEE  ASSCODE  CLAIMS  \\\n",
       "0  3070801   1963   1096      NaN      BE     NaN       NaN        1     NaN   \n",
       "1  3070802   1963   1096      NaN      US      TX       NaN        1     NaN   \n",
       "2  3070803   1963   1096      NaN      US      IL       NaN        1     NaN   \n",
       "3  3070804   1963   1096      NaN      US      OH       NaN        1     NaN   \n",
       "4  3070805   1963   1096      NaN      US      CA       NaN        1     NaN   \n",
       "\n",
       "   NCLASS    ...     CRECEIVE  RATIOCIT  GENERAL  ORIGINAL  FWDAPLAG  \\\n",
       "0     269    ...            1       NaN   0.0000       NaN       NaN   \n",
       "1       2    ...            0       NaN      NaN       NaN       NaN   \n",
       "2       2    ...            9       NaN   0.3704       NaN       NaN   \n",
       "3       2    ...            3       NaN   0.6667       NaN       NaN   \n",
       "4       2    ...            1       NaN   0.0000       NaN       NaN   \n",
       "\n",
       "   BCKGTLAG  SELFCTUB  SELFCTLB  SECDUPBD  SECDLWBD  \n",
       "0       NaN       NaN       NaN       NaN       NaN  \n",
       "1       NaN       NaN       NaN       NaN       NaN  \n",
       "2       NaN       NaN       NaN       NaN       NaN  \n",
       "3       NaN       NaN       NaN       NaN       NaN  \n",
       "4       NaN       NaN       NaN       NaN       NaN  \n",
       "\n",
       "[5 rows x 23 columns]"
      ]
     },
     "execution_count": 12,
     "metadata": {},
     "output_type": "execute_result"
    }
   ],
   "source": [
    "patent_data.head()"
   ]
  },
  {
   "cell_type": "code",
   "execution_count": 13,
   "metadata": {},
   "outputs": [
    {
     "data": {
      "text/plain": [
       "(2923922, 23)"
      ]
     },
     "execution_count": 13,
     "metadata": {},
     "output_type": "execute_result"
    }
   ],
   "source": [
    "patent_data.shape # shape of data set"
   ]
  },
  {
   "cell_type": "code",
   "execution_count": 14,
   "metadata": {},
   "outputs": [
    {
     "name": "stdout",
     "output_type": "stream",
     "text": [
      "('The number of columns in data set ', (23,))\n"
     ]
    }
   ],
   "source": [
    "print (\"The number of columns in data set \", patent_data.columns.shape) #"
   ]
  },
  {
   "cell_type": "code",
   "execution_count": 15,
   "metadata": {},
   "outputs": [
    {
     "data": {
      "text/plain": [
       "Index([u'PATENT', u'GYEAR', u'GDATE', u'APPYEAR', u'COUNTRY', u'POSTATE',\n",
       "       u'ASSIGNEE', u'ASSCODE', u'CLAIMS', u'NCLASS', u'CAT', u'SUBCAT',\n",
       "       u'CMADE', u'CRECEIVE', u'RATIOCIT', u'GENERAL', u'ORIGINAL',\n",
       "       u'FWDAPLAG', u'BCKGTLAG', u'SELFCTUB', u'SELFCTLB', u'SECDUPBD',\n",
       "       u'SECDLWBD'],\n",
       "      dtype='object')"
      ]
     },
     "execution_count": 15,
     "metadata": {},
     "output_type": "execute_result"
    }
   ],
   "source": [
    "patent_data.columns"
   ]
  },
  {
   "cell_type": "code",
   "execution_count": 16,
   "metadata": {},
   "outputs": [
    {
     "name": "stdout",
     "output_type": "stream",
     "text": [
      "PATENT\n",
      "GYEAR\n",
      "GDATE\n",
      "COUNTRY\n",
      "ASSCODE\n",
      "NCLASS\n",
      "CAT\n",
      "SUBCAT\n",
      "CRECEIVE\n",
      "('Total coulumns without Nan', 9)\n"
     ]
    }
   ],
   "source": [
    "count =0 \n",
    "for i in patent_data.columns:\n",
    "    i = str(i)\n",
    "    if patent_data[i].isnull().values.any() == False:\n",
    "        print (i)\n",
    "        count += 1;\n",
    "print (\"Total coulumns without Nan\", count)\n",
    "        \n",
    "    "
   ]
  },
  {
   "cell_type": "code",
   "execution_count": 17,
   "metadata": {},
   "outputs": [
    {
     "name": "stdout",
     "output_type": "stream",
     "text": [
      "APPYEAR\n",
      "POSTATE\n",
      "ASSIGNEE\n",
      "CLAIMS\n",
      "CMADE\n",
      "RATIOCIT\n",
      "GENERAL\n",
      "ORIGINAL\n",
      "FWDAPLAG\n",
      "BCKGTLAG\n",
      "SELFCTUB\n",
      "SELFCTLB\n",
      "SECDUPBD\n",
      "SECDLWBD\n",
      "('Coulumns with Nan', 14)\n"
     ]
    }
   ],
   "source": [
    "count =0 \n",
    "for i in patent_data.columns:\n",
    "    i = str(i)\n",
    "    if patent_data[i].isnull().values.any() == True:\n",
    "        print (i)\n",
    "        count += 1;\n",
    "print (\"Coulumns with Nan\", count)\n",
    "        \n",
    "    "
   ]
  },
  {
   "cell_type": "code",
   "execution_count": 18,
   "metadata": {
    "collapsed": true
   },
   "outputs": [],
   "source": [
    "# Explanation of patent parameters -- This was written to enable understanding of \n",
    "# the data parameters\n",
    "patent_data_column_meaning = pd.read_csv(\"patent_column_name_explanation.txt\")"
   ]
  },
  {
   "cell_type": "code",
   "execution_count": 19,
   "metadata": {},
   "outputs": [
    {
     "data": {
      "text/html": [
       "<div>\n",
       "<table border=\"1\" class=\"dataframe\">\n",
       "  <thead>\n",
       "    <tr style=\"text-align: right;\">\n",
       "      <th></th>\n",
       "      <th>Variable Name</th>\n",
       "      <th>Variable type</th>\n",
       "      <th>Characters</th>\n",
       "      <th>Contents</th>\n",
       "    </tr>\n",
       "  </thead>\n",
       "  <tbody>\n",
       "    <tr>\n",
       "      <th>0</th>\n",
       "      <td>patent</td>\n",
       "      <td>numeric</td>\n",
       "      <td>7</td>\n",
       "      <td>Patent Number</td>\n",
       "    </tr>\n",
       "    <tr>\n",
       "      <th>1</th>\n",
       "      <td>gyear</td>\n",
       "      <td>numeric</td>\n",
       "      <td>12</td>\n",
       "      <td>Grant Year</td>\n",
       "    </tr>\n",
       "    <tr>\n",
       "      <th>2</th>\n",
       "      <td>gdate</td>\n",
       "      <td>numeric</td>\n",
       "      <td>12</td>\n",
       "      <td>Grant Date</td>\n",
       "    </tr>\n",
       "    <tr>\n",
       "      <th>3</th>\n",
       "      <td>appyear</td>\n",
       "      <td>numeric</td>\n",
       "      <td>12</td>\n",
       "      <td>Application Year</td>\n",
       "    </tr>\n",
       "    <tr>\n",
       "      <th>4</th>\n",
       "      <td>country</td>\n",
       "      <td>character</td>\n",
       "      <td>3</td>\n",
       "      <td>Country of First Inventor</td>\n",
       "    </tr>\n",
       "    <tr>\n",
       "      <th>5</th>\n",
       "      <td>postate</td>\n",
       "      <td>charecter</td>\n",
       "      <td>3</td>\n",
       "      <td>State of First Inventor (if US)</td>\n",
       "    </tr>\n",
       "    <tr>\n",
       "      <th>6</th>\n",
       "      <td>assignee</td>\n",
       "      <td>numeric</td>\n",
       "      <td>12</td>\n",
       "      <td>Assignee Identifier (missing 1963-1967)</td>\n",
       "    </tr>\n",
       "    <tr>\n",
       "      <th>7</th>\n",
       "      <td>asscode</td>\n",
       "      <td>numeric</td>\n",
       "      <td>12</td>\n",
       "      <td>Assignee Type (see below)</td>\n",
       "    </tr>\n",
       "    <tr>\n",
       "      <th>8</th>\n",
       "      <td>claims</td>\n",
       "      <td>numeric</td>\n",
       "      <td>12</td>\n",
       "      <td>number of Claims</td>\n",
       "    </tr>\n",
       "    <tr>\n",
       "      <th>9</th>\n",
       "      <td>nclass</td>\n",
       "      <td>numeric</td>\n",
       "      <td>12</td>\n",
       "      <td>Main Patent Class (3 digit)</td>\n",
       "    </tr>\n",
       "    <tr>\n",
       "      <th>10</th>\n",
       "      <td>cat</td>\n",
       "      <td>numeric</td>\n",
       "      <td>12</td>\n",
       "      <td>Technological Category</td>\n",
       "    </tr>\n",
       "    <tr>\n",
       "      <th>11</th>\n",
       "      <td>subcat</td>\n",
       "      <td>numeric</td>\n",
       "      <td>12</td>\n",
       "      <td>Technological Sub-Category</td>\n",
       "    </tr>\n",
       "    <tr>\n",
       "      <th>12</th>\n",
       "      <td>cmade</td>\n",
       "      <td>numeric</td>\n",
       "      <td>12</td>\n",
       "      <td>Number of Citations Made</td>\n",
       "    </tr>\n",
       "    <tr>\n",
       "      <th>13</th>\n",
       "      <td>creceive</td>\n",
       "      <td>numeric</td>\n",
       "      <td>12</td>\n",
       "      <td>Number of Citations Received</td>\n",
       "    </tr>\n",
       "    <tr>\n",
       "      <th>14</th>\n",
       "      <td>ratiocit</td>\n",
       "      <td>numeric</td>\n",
       "      <td>6</td>\n",
       "      <td>Percent of Citations Made to Patents Granted S...</td>\n",
       "    </tr>\n",
       "    <tr>\n",
       "      <th>15</th>\n",
       "      <td>general</td>\n",
       "      <td>numeric</td>\n",
       "      <td>6</td>\n",
       "      <td>Measure of Generality</td>\n",
       "    </tr>\n",
       "    <tr>\n",
       "      <th>16</th>\n",
       "      <td>original</td>\n",
       "      <td>numeric</td>\n",
       "      <td>6</td>\n",
       "      <td>Measure of Originality</td>\n",
       "    </tr>\n",
       "    <tr>\n",
       "      <th>17</th>\n",
       "      <td>fwdaplag</td>\n",
       "      <td>numeric</td>\n",
       "      <td>7</td>\n",
       "      <td>Mean Forward Citation Lag</td>\n",
       "    </tr>\n",
       "    <tr>\n",
       "      <th>18</th>\n",
       "      <td>bckgtlag</td>\n",
       "      <td>numeric</td>\n",
       "      <td>8</td>\n",
       "      <td>Mean Backward Citation Lag</td>\n",
       "    </tr>\n",
       "    <tr>\n",
       "      <th>19</th>\n",
       "      <td>selfctub</td>\n",
       "      <td>numeric</td>\n",
       "      <td>6</td>\n",
       "      <td>Share of Self-Citations Made - Upper Bound</td>\n",
       "    </tr>\n",
       "    <tr>\n",
       "      <th>20</th>\n",
       "      <td>selfctlb</td>\n",
       "      <td>numeric</td>\n",
       "      <td>6</td>\n",
       "      <td>Share of Self-Citations Made - Lower Bound</td>\n",
       "    </tr>\n",
       "    <tr>\n",
       "      <th>21</th>\n",
       "      <td>secdupbd</td>\n",
       "      <td>numeric</td>\n",
       "      <td>6</td>\n",
       "      <td>Share of Self-Citations Received - Upper Bound</td>\n",
       "    </tr>\n",
       "    <tr>\n",
       "      <th>22</th>\n",
       "      <td>secdlwbd</td>\n",
       "      <td>numeric</td>\n",
       "      <td>6</td>\n",
       "      <td>Share of Self-Citations Received - Lower Bound</td>\n",
       "    </tr>\n",
       "  </tbody>\n",
       "</table>\n",
       "</div>"
      ],
      "text/plain": [
       "   Variable Name     Variable type      Characters    \\\n",
       "0         patent           numeric                 7   \n",
       "1          gyear            numeric               12   \n",
       "2          gdate           numeric                12   \n",
       "3        appyear            numeric               12   \n",
       "4         country         character                3   \n",
       "5         postate        charecter                 3   \n",
       "6        assignee           numeric               12   \n",
       "7         asscode           numeric               12   \n",
       "8          claims           numeric               12   \n",
       "9          nclass           numeric               12   \n",
       "10            cat           numeric               12   \n",
       "11         subcat           numeric               12   \n",
       "12          cmade           numeric               12   \n",
       "13       creceive           numeric               12   \n",
       "14       ratiocit          numeric                 6   \n",
       "15        general           numeric                6   \n",
       "16       original           numeric                6   \n",
       "17       fwdaplag           numeric                7   \n",
       "18       bckgtlag           numeric                8   \n",
       "19       selfctub           numeric                6   \n",
       "20       selfctlb           numeric                6   \n",
       "21       secdupbd           numeric                6   \n",
       "22       secdlwbd           numeric                6   \n",
       "\n",
       "                                             Contents  \n",
       "0                                       Patent Number  \n",
       "1                                          Grant Year  \n",
       "2                                         Grant Date   \n",
       "3                                    Application Year  \n",
       "4                           Country of First Inventor  \n",
       "5                     State of First Inventor (if US)  \n",
       "6             Assignee Identifier (missing 1963-1967)  \n",
       "7                           Assignee Type (see below)  \n",
       "8                                    number of Claims  \n",
       "9                         Main Patent Class (3 digit)  \n",
       "10                             Technological Category  \n",
       "11                         Technological Sub-Category  \n",
       "12                           Number of Citations Made  \n",
       "13                       Number of Citations Received  \n",
       "14  Percent of Citations Made to Patents Granted S...  \n",
       "15                              Measure of Generality  \n",
       "16                             Measure of Originality  \n",
       "17                          Mean Forward Citation Lag  \n",
       "18                         Mean Backward Citation Lag  \n",
       "19         Share of Self-Citations Made - Upper Bound  \n",
       "20         Share of Self-Citations Made - Lower Bound  \n",
       "21     Share of Self-Citations Received - Upper Bound  \n",
       "22     Share of Self-Citations Received - Lower Bound  "
      ]
     },
     "execution_count": 19,
     "metadata": {},
     "output_type": "execute_result"
    }
   ],
   "source": [
    "patent_data_column_meaning"
   ]
  },
  {
   "cell_type": "markdown",
   "metadata": {},
   "source": [
    "<p><b>For more on the explanation of these parameters please read the paper:</b></p>\n",
    "http://www.nber.org/patents/pat63_99.txt"
   ]
  },
  {
   "cell_type": "markdown",
   "metadata": {},
   "source": [
    "## Joining The Tables Before Analysis"
   ]
  },
  {
   "cell_type": "markdown",
   "metadata": {},
   "source": [
    "From the inventors record we can the names of inventor to the patent_data."
   ]
  },
  {
   "cell_type": "code",
   "execution_count": 20,
   "metadata": {
    "collapsed": true
   },
   "outputs": [],
   "source": [
    "# Collect from inventors data set coluns that are interesting to us\n",
    "inventors_record_reduced = inventors_record[['PATENT' ,'LASTNAM' ,'FIRSTNAM', 'MIDNAM','MODIFNAM']]"
   ]
  },
  {
   "cell_type": "code",
   "execution_count": 21,
   "metadata": {
    "collapsed": true
   },
   "outputs": [],
   "source": [
    "# Merge the data seton patent \n",
    "merged_data_left = pd.merge(inventors_record_reduced, patent_data, on=\"PATENT\",how=\"left\")"
   ]
  },
  {
   "cell_type": "code",
   "execution_count": 22,
   "metadata": {},
   "outputs": [
    {
     "data": {
      "text/plain": [
       "(4301229, 27)"
      ]
     },
     "execution_count": 22,
     "metadata": {},
     "output_type": "execute_result"
    }
   ],
   "source": [
    "merged_data_left.shape # checkt the shape of data set"
   ]
  },
  {
   "cell_type": "code",
   "execution_count": 23,
   "metadata": {},
   "outputs": [
    {
     "name": "stdout",
     "output_type": "stream",
     "text": [
      "PATENT\n",
      "LASTNAM\n",
      "GYEAR\n",
      "GDATE\n",
      "COUNTRY\n",
      "ASSCODE\n",
      "NCLASS\n",
      "CAT\n",
      "SUBCAT\n",
      "CMADE\n",
      "CRECEIVE\n",
      "('Coulumns without Nan', 11)\n"
     ]
    }
   ],
   "source": [
    "count =0 \n",
    "for i in merged_data_left.columns:\n",
    "    i = str(i)\n",
    "    if merged_data_left[i].isnull().values.any() == False:\n",
    "        print (i)\n",
    "        count += 1;\n",
    "print (\"Coulumns without Nan\", count)\n",
    "        \n",
    "   "
   ]
  },
  {
   "cell_type": "code",
   "execution_count": 24,
   "metadata": {},
   "outputs": [
    {
     "name": "stdout",
     "output_type": "stream",
     "text": [
      "FIRSTNAM\n",
      "MIDNAM\n",
      "MODIFNAM\n",
      "APPYEAR\n",
      "POSTATE\n",
      "ASSIGNEE\n",
      "CLAIMS\n",
      "RATIOCIT\n",
      "GENERAL\n",
      "ORIGINAL\n",
      "FWDAPLAG\n",
      "BCKGTLAG\n",
      "SELFCTUB\n",
      "SELFCTLB\n",
      "SECDUPBD\n",
      "SECDLWBD\n",
      "('Coulumns with Nan', 16)\n"
     ]
    }
   ],
   "source": [
    "count =0 \n",
    "for i in merged_data_left.columns:\n",
    "    i = str(i)\n",
    "    if merged_data_left[i].isnull().values.any() == True:\n",
    "        print (i)\n",
    "        count += 1;\n",
    "print (\"Coulumns with Nan\", count)\n",
    "        \n",
    "   "
   ]
  },
  {
   "cell_type": "code",
   "execution_count": 25,
   "metadata": {},
   "outputs": [
    {
     "data": {
      "text/html": [
       "<div>\n",
       "<table border=\"1\" class=\"dataframe\">\n",
       "  <thead>\n",
       "    <tr style=\"text-align: right;\">\n",
       "      <th></th>\n",
       "      <th>PATENT</th>\n",
       "      <th>LASTNAM</th>\n",
       "      <th>FIRSTNAM</th>\n",
       "      <th>MIDNAM</th>\n",
       "      <th>MODIFNAM</th>\n",
       "      <th>GYEAR</th>\n",
       "      <th>GDATE</th>\n",
       "      <th>APPYEAR</th>\n",
       "      <th>COUNTRY</th>\n",
       "      <th>POSTATE</th>\n",
       "      <th>...</th>\n",
       "      <th>CRECEIVE</th>\n",
       "      <th>RATIOCIT</th>\n",
       "      <th>GENERAL</th>\n",
       "      <th>ORIGINAL</th>\n",
       "      <th>FWDAPLAG</th>\n",
       "      <th>BCKGTLAG</th>\n",
       "      <th>SELFCTUB</th>\n",
       "      <th>SELFCTLB</th>\n",
       "      <th>SECDUPBD</th>\n",
       "      <th>SECDLWBD</th>\n",
       "    </tr>\n",
       "  </thead>\n",
       "  <tbody>\n",
       "    <tr>\n",
       "      <th>0</th>\n",
       "      <td>3858241</td>\n",
       "      <td>Durand</td>\n",
       "      <td>Philip</td>\n",
       "      <td>E.</td>\n",
       "      <td>NaN</td>\n",
       "      <td>1975</td>\n",
       "      <td>5485</td>\n",
       "      <td>1974.0</td>\n",
       "      <td>US</td>\n",
       "      <td>MA</td>\n",
       "      <td>...</td>\n",
       "      <td>0</td>\n",
       "      <td>0.6000</td>\n",
       "      <td>NaN</td>\n",
       "      <td>0.0000</td>\n",
       "      <td>NaN</td>\n",
       "      <td>27.0000</td>\n",
       "      <td>1.0</td>\n",
       "      <td>0.2</td>\n",
       "      <td>NaN</td>\n",
       "      <td>NaN</td>\n",
       "    </tr>\n",
       "    <tr>\n",
       "      <th>1</th>\n",
       "      <td>3858241</td>\n",
       "      <td>Norris</td>\n",
       "      <td>Lonnie</td>\n",
       "      <td>H.</td>\n",
       "      <td>NaN</td>\n",
       "      <td>1975</td>\n",
       "      <td>5485</td>\n",
       "      <td>1974.0</td>\n",
       "      <td>US</td>\n",
       "      <td>MA</td>\n",
       "      <td>...</td>\n",
       "      <td>0</td>\n",
       "      <td>0.6000</td>\n",
       "      <td>NaN</td>\n",
       "      <td>0.0000</td>\n",
       "      <td>NaN</td>\n",
       "      <td>27.0000</td>\n",
       "      <td>1.0</td>\n",
       "      <td>0.2</td>\n",
       "      <td>NaN</td>\n",
       "      <td>NaN</td>\n",
       "    </tr>\n",
       "    <tr>\n",
       "      <th>2</th>\n",
       "      <td>3858242</td>\n",
       "      <td>Gooding</td>\n",
       "      <td>Elwyn</td>\n",
       "      <td>R.</td>\n",
       "      <td>NaN</td>\n",
       "      <td>1975</td>\n",
       "      <td>5485</td>\n",
       "      <td>1973.0</td>\n",
       "      <td>US</td>\n",
       "      <td>MI</td>\n",
       "      <td>...</td>\n",
       "      <td>12</td>\n",
       "      <td>0.7500</td>\n",
       "      <td>0.1528</td>\n",
       "      <td>0.0000</td>\n",
       "      <td>11.0833</td>\n",
       "      <td>16.2500</td>\n",
       "      <td>NaN</td>\n",
       "      <td>NaN</td>\n",
       "      <td>NaN</td>\n",
       "      <td>NaN</td>\n",
       "    </tr>\n",
       "    <tr>\n",
       "      <th>3</th>\n",
       "      <td>3858243</td>\n",
       "      <td>Pierron</td>\n",
       "      <td>Claude</td>\n",
       "      <td>Raymond</td>\n",
       "      <td>NaN</td>\n",
       "      <td>1975</td>\n",
       "      <td>5485</td>\n",
       "      <td>1973.0</td>\n",
       "      <td>FR</td>\n",
       "      <td>NaN</td>\n",
       "      <td>...</td>\n",
       "      <td>2</td>\n",
       "      <td>0.8571</td>\n",
       "      <td>0.0000</td>\n",
       "      <td>0.2778</td>\n",
       "      <td>6.0000</td>\n",
       "      <td>8.1429</td>\n",
       "      <td>0.0</td>\n",
       "      <td>0.0</td>\n",
       "      <td>0.0</td>\n",
       "      <td>0.0</td>\n",
       "    </tr>\n",
       "    <tr>\n",
       "      <th>4</th>\n",
       "      <td>3858243</td>\n",
       "      <td>Jenny</td>\n",
       "      <td>Jean</td>\n",
       "      <td>Paul</td>\n",
       "      <td>NaN</td>\n",
       "      <td>1975</td>\n",
       "      <td>5485</td>\n",
       "      <td>1973.0</td>\n",
       "      <td>FR</td>\n",
       "      <td>NaN</td>\n",
       "      <td>...</td>\n",
       "      <td>2</td>\n",
       "      <td>0.8571</td>\n",
       "      <td>0.0000</td>\n",
       "      <td>0.2778</td>\n",
       "      <td>6.0000</td>\n",
       "      <td>8.1429</td>\n",
       "      <td>0.0</td>\n",
       "      <td>0.0</td>\n",
       "      <td>0.0</td>\n",
       "      <td>0.0</td>\n",
       "    </tr>\n",
       "  </tbody>\n",
       "</table>\n",
       "<p>5 rows × 27 columns</p>\n",
       "</div>"
      ],
      "text/plain": [
       "    PATENT  LASTNAM FIRSTNAM   MIDNAM MODIFNAM  GYEAR  GDATE  APPYEAR COUNTRY  \\\n",
       "0  3858241   Durand   Philip       E.      NaN   1975   5485   1974.0      US   \n",
       "1  3858241   Norris   Lonnie       H.      NaN   1975   5485   1974.0      US   \n",
       "2  3858242  Gooding    Elwyn       R.      NaN   1975   5485   1973.0      US   \n",
       "3  3858243  Pierron   Claude  Raymond      NaN   1975   5485   1973.0      FR   \n",
       "4  3858243    Jenny     Jean     Paul      NaN   1975   5485   1973.0      FR   \n",
       "\n",
       "  POSTATE    ...     CRECEIVE  RATIOCIT  GENERAL  ORIGINAL  FWDAPLAG  \\\n",
       "0      MA    ...            0    0.6000      NaN    0.0000       NaN   \n",
       "1      MA    ...            0    0.6000      NaN    0.0000       NaN   \n",
       "2      MI    ...           12    0.7500   0.1528    0.0000   11.0833   \n",
       "3     NaN    ...            2    0.8571   0.0000    0.2778    6.0000   \n",
       "4     NaN    ...            2    0.8571   0.0000    0.2778    6.0000   \n",
       "\n",
       "   BCKGTLAG  SELFCTUB  SELFCTLB  SECDUPBD  SECDLWBD  \n",
       "0   27.0000       1.0       0.2       NaN       NaN  \n",
       "1   27.0000       1.0       0.2       NaN       NaN  \n",
       "2   16.2500       NaN       NaN       NaN       NaN  \n",
       "3    8.1429       0.0       0.0       0.0       0.0  \n",
       "4    8.1429       0.0       0.0       0.0       0.0  \n",
       "\n",
       "[5 rows x 27 columns]"
      ]
     },
     "execution_count": 25,
     "metadata": {},
     "output_type": "execute_result"
    }
   ],
   "source": [
    "merged_data_left.head()"
   ]
  },
  {
   "cell_type": "code",
   "execution_count": 26,
   "metadata": {
    "collapsed": true
   },
   "outputs": [],
   "source": [
    "# store the data set using pickle\n",
    "import pickle\n",
    "merged_data_left.to_pickle('dataset.pkl') "
   ]
  },
  {
   "cell_type": "code",
   "execution_count": 27,
   "metadata": {
    "collapsed": true
   },
   "outputs": [],
   "source": [
    "merged_data_left  = pd.read_pickle('dataset.pkl')  #to read pickle"
   ]
  },
  {
   "cell_type": "code",
   "execution_count": 29,
   "metadata": {
    "collapsed": true
   },
   "outputs": [],
   "source": [
    "countries_patent = pd.crosstab(merged_data_left[\"COUNTRY\"], columns = \"count\" )"
   ]
  },
  {
   "cell_type": "code",
   "execution_count": 59,
   "metadata": {},
   "outputs": [
    {
     "data": {
      "text/html": [
       "<div>\n",
       "<table border=\"1\" class=\"dataframe\">\n",
       "  <thead>\n",
       "    <tr style=\"text-align: right;\">\n",
       "      <th>col_0</th>\n",
       "      <th>count</th>\n",
       "    </tr>\n",
       "  </thead>\n",
       "  <tbody>\n",
       "    <tr>\n",
       "      <th>count</th>\n",
       "      <td>1.540000e+02</td>\n",
       "    </tr>\n",
       "    <tr>\n",
       "      <th>mean</th>\n",
       "      <td>2.793006e+04</td>\n",
       "    </tr>\n",
       "    <tr>\n",
       "      <th>std</th>\n",
       "      <td>1.951097e+05</td>\n",
       "    </tr>\n",
       "    <tr>\n",
       "      <th>min</th>\n",
       "      <td>1.000000e+00</td>\n",
       "    </tr>\n",
       "    <tr>\n",
       "      <th>25%</th>\n",
       "      <td>6.000000e+00</td>\n",
       "    </tr>\n",
       "    <tr>\n",
       "      <th>50%</th>\n",
       "      <td>2.750000e+01</td>\n",
       "    </tr>\n",
       "    <tr>\n",
       "      <th>75%</th>\n",
       "      <td>5.935000e+02</td>\n",
       "    </tr>\n",
       "    <tr>\n",
       "      <th>max</th>\n",
       "      <td>2.159229e+06</td>\n",
       "    </tr>\n",
       "  </tbody>\n",
       "</table>\n",
       "</div>"
      ],
      "text/plain": [
       "col_0         count\n",
       "count  1.540000e+02\n",
       "mean   2.793006e+04\n",
       "std    1.951097e+05\n",
       "min    1.000000e+00\n",
       "25%    6.000000e+00\n",
       "50%    2.750000e+01\n",
       "75%    5.935000e+02\n",
       "max    2.159229e+06"
      ]
     },
     "execution_count": 59,
     "metadata": {},
     "output_type": "execute_result"
    }
   ],
   "source": [
    "countries_patent.describe()"
   ]
  },
  {
   "cell_type": "code",
   "execution_count": 65,
   "metadata": {},
   "outputs": [
    {
     "data": {
      "text/plain": [
       "27930.06"
      ]
     },
     "execution_count": 65,
     "metadata": {},
     "output_type": "execute_result"
    }
   ],
   "source": [
    "2.793006e+04"
   ]
  },
  {
   "cell_type": "code",
   "execution_count": 67,
   "metadata": {},
   "outputs": [
    {
     "name": "stdout",
     "output_type": "stream",
     "text": [
      "Number of patents per country\n"
     ]
    },
    {
     "data": {
      "text/html": [
       "<div>\n",
       "<table border=\"1\" class=\"dataframe\">\n",
       "  <thead>\n",
       "    <tr style=\"text-align: right;\">\n",
       "      <th>col_0</th>\n",
       "      <th>count</th>\n",
       "    </tr>\n",
       "    <tr>\n",
       "      <th>COUNTRY</th>\n",
       "      <th></th>\n",
       "    </tr>\n",
       "  </thead>\n",
       "  <tbody>\n",
       "    <tr>\n",
       "      <th>AE</th>\n",
       "      <td>21</td>\n",
       "    </tr>\n",
       "    <tr>\n",
       "      <th>AG</th>\n",
       "      <td>10</td>\n",
       "    </tr>\n",
       "    <tr>\n",
       "      <th>AI</th>\n",
       "      <td>1</td>\n",
       "    </tr>\n",
       "    <tr>\n",
       "      <th>AL</th>\n",
       "      <td>1</td>\n",
       "    </tr>\n",
       "    <tr>\n",
       "      <th>AM</th>\n",
       "      <td>7</td>\n",
       "    </tr>\n",
       "    <tr>\n",
       "      <th>AN</th>\n",
       "      <td>9</td>\n",
       "    </tr>\n",
       "    <tr>\n",
       "      <th>AR</th>\n",
       "      <td>828</td>\n",
       "    </tr>\n",
       "    <tr>\n",
       "      <th>AT</th>\n",
       "      <td>15193</td>\n",
       "    </tr>\n",
       "    <tr>\n",
       "      <th>AU</th>\n",
       "      <td>15697</td>\n",
       "    </tr>\n",
       "    <tr>\n",
       "      <th>AW</th>\n",
       "      <td>4</td>\n",
       "    </tr>\n",
       "    <tr>\n",
       "      <th>AZ</th>\n",
       "      <td>8</td>\n",
       "    </tr>\n",
       "    <tr>\n",
       "      <th>BB</th>\n",
       "      <td>8</td>\n",
       "    </tr>\n",
       "    <tr>\n",
       "      <th>BE</th>\n",
       "      <td>17905</td>\n",
       "    </tr>\n",
       "    <tr>\n",
       "      <th>BG</th>\n",
       "      <td>1498</td>\n",
       "    </tr>\n",
       "    <tr>\n",
       "      <th>BH</th>\n",
       "      <td>3</td>\n",
       "    </tr>\n",
       "    <tr>\n",
       "      <th>BM</th>\n",
       "      <td>51</td>\n",
       "    </tr>\n",
       "    <tr>\n",
       "      <th>BN</th>\n",
       "      <td>2</td>\n",
       "    </tr>\n",
       "    <tr>\n",
       "      <th>BO</th>\n",
       "      <td>16</td>\n",
       "    </tr>\n",
       "    <tr>\n",
       "      <th>BR</th>\n",
       "      <td>1623</td>\n",
       "    </tr>\n",
       "  </tbody>\n",
       "</table>\n",
       "</div>"
      ],
      "text/plain": [
       "col_0    count\n",
       "COUNTRY       \n",
       "AE          21\n",
       "AG          10\n",
       "AI           1\n",
       "AL           1\n",
       "AM           7\n",
       "AN           9\n",
       "AR         828\n",
       "AT       15193\n",
       "AU       15697\n",
       "AW           4\n",
       "AZ           8\n",
       "BB           8\n",
       "BE       17905\n",
       "BG        1498\n",
       "BH           3\n",
       "BM          51\n",
       "BN           2\n",
       "BO          16\n",
       "BR        1623"
      ]
     },
     "execution_count": 67,
     "metadata": {},
     "output_type": "execute_result"
    }
   ],
   "source": [
    "print \"Number of patents per country\"\n",
    "countries_patent[1:20]"
   ]
  },
  {
   "cell_type": "code",
   "execution_count": 69,
   "metadata": {
    "collapsed": true
   },
   "outputs": [],
   "source": [
    "# return countries with patent greater than the mean: 27930.06\n",
    "patent_country_greater_than_mean = countries_patent.loc[countries_patent['count']>27930.06]"
   ]
  },
  {
   "cell_type": "code",
   "execution_count": 73,
   "metadata": {
    "scrolled": true
   },
   "outputs": [
    {
     "data": {
      "text/plain": [
       "<matplotlib.axes._subplots.AxesSubplot at 0x18cc9f410>"
      ]
     },
     "execution_count": 73,
     "metadata": {},
     "output_type": "execute_result"
    },
    {
     "data": {
      "image/png": "[encoded data removed]",
      "text/plain": [
       "<matplotlib.figure.Figure at 0x18ce75610>"
      ]
     },
     "metadata": {},
     "output_type": "display_data"
    }
   ],
   "source": [
    "\n",
    "patent_country_greater_than_mean.plot(kind='bar', figsize=(10,10), color='green' )\n"
   ]
  },
  {
   "cell_type": "code",
   "execution_count": null,
   "metadata": {
    "collapsed": true
   },
   "outputs": [],
   "source": []
  }
 ],
 "metadata": {
  "anaconda-cloud": {},
  "kernelspec": {
   "display_name": "Python [conda env:python2]",
   "language": "python",
   "name": "conda-env-python2-py"
  },
  "language_info": {
   "codemirror_mode": {
    "name": "ipython",
    "version": 2
   },
   "file_extension": ".py",
   "mimetype": "text/x-python",
   "name": "python",
   "nbconvert_exporter": "python",
   "pygments_lexer": "ipython2",
   "version": "2.7.12"
  }
 },
 "nbformat": 4,
 "nbformat_minor": 2
}
